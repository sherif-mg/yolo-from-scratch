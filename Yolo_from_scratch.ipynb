{
  "nbformat": 4,
  "nbformat_minor": 0,
  "metadata": {
    "colab": {
      "provenance": [],
      "gpuType": "T4"
    },
    "kernelspec": {
      "name": "python3",
      "display_name": "Python 3"
    },
    "language_info": {
      "name": "python"
    },
    "accelerator": "GPU"
  },
  "cells": [
    {
      "cell_type": "code",
      "source": [
        "!pip install elementpath"
      ],
      "metadata": {
        "colab": {
          "base_uri": "https://localhost:8080/"
        },
        "id": "ar3t_lPiOYZ9",
        "outputId": "9d7d56cd-749d-4792-b49a-fac5c1161042"
      },
      "execution_count": null,
      "outputs": [
        {
          "output_type": "stream",
          "name": "stdout",
          "text": [
            "Requirement already satisfied: elementpath in /usr/local/lib/python3.10/dist-packages (4.4.0)\n"
          ]
        }
      ]
    },
    {
      "cell_type": "code",
      "execution_count": null,
      "metadata": {
        "id": "TrpkudBRXRG_"
      },
      "outputs": [],
      "source": [
        "import numpy as np\n",
        "import tensorflow as tf\n",
        "import pandas as pd\n",
        "from tensorflow import keras\n",
        "from io import StringIO\n",
        "import matplotlib.pyplot as plt\n",
        "import numpy as np\n",
        "import os\n",
        "import cv2\n",
        "from sklearn.utils import shuffle\n",
        "from sklearn.model_selection import train_test_split\n",
        "from sklearn.preprocessing import LabelEncoder\n",
        "from keras.callbacks import ReduceLROnPlateau\n",
        "from keras.preprocessing.image import ImageDataGenerator\n",
        "from tensorflow.keras import layers\n",
        "import warnings\n",
        "warnings.filterwarnings(\"ignore\")\n",
        "from sklearn.metrics import classification_report\n",
        "keras.utils.set_random_seed(42)"
      ]
    },
    {
      "cell_type": "code",
      "source": [
        "from google.colab import userdata\n",
        "import os\n",
        "\n",
        "os.environ[\"KAGGLE_KEY\"] = userdata.get('key')\n",
        "os.environ[\"KAGGLE_USERNAME\"] = userdata.get('username')"
      ],
      "metadata": {
        "id": "Dx_86JxV_sZe"
      },
      "execution_count": null,
      "outputs": []
    },
    {
      "cell_type": "code",
      "source": [
        "!kaggle datasets download -d mbkinaci/fruit-images-for-object-detection"
      ],
      "metadata": {
        "colab": {
          "base_uri": "https://localhost:8080/"
        },
        "id": "T-oar_va_wmJ",
        "outputId": "1849613c-16c6-4a62-b7c2-81b616df9dc8"
      },
      "execution_count": null,
      "outputs": [
        {
          "output_type": "stream",
          "name": "stdout",
          "text": [
            "Dataset URL: https://www.kaggle.com/datasets/mbkinaci/fruit-images-for-object-detection\n",
            "License(s): CC0-1.0\n",
            "fruit-images-for-object-detection.zip: Skipping, found more recently modified local copy (use --force to force download)\n"
          ]
        }
      ]
    },
    {
      "cell_type": "code",
      "source": [
        "!mkdir data"
      ],
      "metadata": {
        "colab": {
          "base_uri": "https://localhost:8080/"
        },
        "id": "PqEfLGDT_x97",
        "outputId": "afd9cc87-0f97-4a6f-df49-4e259beb16d6"
      },
      "execution_count": null,
      "outputs": [
        {
          "output_type": "stream",
          "name": "stdout",
          "text": [
            "mkdir: cannot create directory ‘data’: File exists\n"
          ]
        }
      ]
    },
    {
      "cell_type": "code",
      "source": [
        "!unzip /content/fruit-images-for-object-detection.zip -d /content/data"
      ],
      "metadata": {
        "colab": {
          "base_uri": "https://localhost:8080/"
        },
        "id": "AGKdSpfT_zP7",
        "outputId": "341936f6-0bce-4045-c3ad-bccba22dc54e"
      },
      "execution_count": null,
      "outputs": [
        {
          "output_type": "stream",
          "name": "stdout",
          "text": [
            "Archive:  /content/fruit-images-for-object-detection.zip\n",
            "replace /content/data/test_zip/test/apple_77.jpg? [y]es, [n]o, [A]ll, [N]one, [r]ename: N\n"
          ]
        }
      ]
    },
    {
      "cell_type": "code",
      "source": [
        "import xml.etree.ElementTree as ET\n",
        "def load_annotation(file,w,h,width,height):\n",
        "\n",
        "  file=file.replace(\".jpg\",\".xml\")\n",
        "  root = ET.parse(file)\n",
        "  annots=[]\n",
        "\n",
        "  for obj in root.findall('object'):\n",
        "    label = int(obj.find('truncated').text)\n",
        "    bndbox = obj.find('bndbox')\n",
        "    xmin = int((int(bndbox.find('xmin').text)/w)*width)\n",
        "    ymin = int((int(bndbox.find('ymin').text)/h)*height)\n",
        "    xmax = int((int(bndbox.find('xmax').text)/w)*width)\n",
        "    ymax = int((int(bndbox.find('ymax').text)/h)*height)\n",
        "    annots.append([label,xmin,ymin,xmax,ymax])\n",
        "  return annots"
      ],
      "metadata": {
        "id": "XjNYdjw1Od6b"
      },
      "execution_count": null,
      "outputs": []
    },
    {
      "cell_type": "code",
      "source": [
        "def load_images_from_folder(folder):\n",
        "  images=[]\n",
        "  labels=[]\n",
        "  for subdir, dirs, files in os.walk(folder):\n",
        "    for file in files:\n",
        "      path=os.path.join(subdir, file)\n",
        "      if (path.endswith(\".jpg\")):\n",
        "        img=cv2.cvtColor(cv2.imread(path,cv2.IMREAD_COLOR), cv2.COLOR_BGR2RGB)\n",
        "        labels.append(load_annotation(path,img.shape[1],img.shape[0],448,448))\n",
        "        img=cv2.resize(img, (448,448))\n",
        "        images.append(img)\n",
        "  return  np.array(images),labels"
      ],
      "metadata": {
        "id": "97NwEBlqtCkS"
      },
      "execution_count": null,
      "outputs": []
    },
    {
      "cell_type": "code",
      "source": [
        "def preprocessingAnnot(labels):\n",
        "  nlabels=[]\n",
        "  for imgsL in labels:\n",
        "    nlabel=[]\n",
        "    for label in imgsL:\n",
        "      xmin = label[1]\n",
        "      ymin = label[2]\n",
        "      xmax = label[3]\n",
        "      ymax = label[4]\n",
        "      xcenter=(xmin+xmax)/2\n",
        "      ycenter=(ymin+ymax)/2\n",
        "      w=xmax-xmin\n",
        "      h=ymax-ymin\n",
        "      nlabel.append([label[0],xcenter,ycenter,w,h])\n",
        "    nlabels.append(nlabel)\n",
        "  return nlabels"
      ],
      "metadata": {
        "id": "F7wOdsLskq8H"
      },
      "execution_count": null,
      "outputs": []
    },
    {
      "cell_type": "code",
      "source": [
        "def format_label(labels,cluster, grid_size=7, num_bboxes=2, num_classes=3):\n",
        "    label_matrix = np.zeros((len(labels),grid_size, grid_size, num_bboxes * 5 + num_classes))\n",
        "    for idx,imgsL in enumerate(labels):\n",
        "      for label in imgsL:\n",
        "        class_index, x_center, y_center, width, height = label\n",
        "        box_index=cluster.predict(np.array([[width-x_center,height-y_center]]))[0]\n",
        "        # Determine which cell the center of the box falls into\n",
        "        cell_x = int(x_center //64)\n",
        "        cell_y = int(y_center //64)\n",
        "        # Calculate normalized positions relative to cell\n",
        "        x_center = (x_center - (cell_x*64))/64\n",
        "        y_center = (y_center - (cell_y*64))/64\n",
        "        width = (width - (cell_x*64))/64\n",
        "        height = (height - (cell_y*64))/64\n",
        "        # Set class probabilities to 1 for the given class index\n",
        "        label_matrix[idx,cell_y, cell_x, class_index] = 1.0\n",
        "        # Set bounding box parameters for the first bounding box predictor\n",
        "        bbox_index = box_index* 5\n",
        "        label_matrix[idx,cell_y, cell_x, num_classes + bbox_index: num_classes + bbox_index + 4] = [x_center, y_center, width, height]\n",
        "        label_matrix[idx,cell_y, cell_x, num_classes + bbox_index + 4] = 1.0  # Confidence score\n",
        "    return label_matrix\n",
        "\n"
      ],
      "metadata": {
        "id": "LCzZUqQipENn"
      },
      "execution_count": null,
      "outputs": []
    },
    {
      "cell_type": "code",
      "source": [
        "folder=\"/content/data/train_zip/train\"\n",
        "xTrain,yTrain=load_images_from_folder(folder)\n",
        "folder=\"/content/data/test_zip/test\"\n",
        "xTest,yTest=load_images_from_folder(folder)"
      ],
      "metadata": {
        "id": "9ky7R0OE2pUY"
      },
      "execution_count": null,
      "outputs": []
    },
    {
      "cell_type": "code",
      "source": [
        "idx=0\n",
        "img=cv2.rectangle(xTest[idx],(yTest[idx][0][1],yTest[idx][0][2]),(yTest[idx][0][3],yTest[idx][0][4]),(0,255,0),2)\n",
        "plt.imshow(img)"
      ],
      "metadata": {
        "colab": {
          "base_uri": "https://localhost:8080/",
          "height": 452
        },
        "id": "p4SqyqYM6dqH",
        "outputId": "b40f1814-3ee5-41fb-dbe9-4882f4ac1dc3"
      },
      "execution_count": null,
      "outputs": [
        {
          "output_type": "execute_result",
          "data": {
            "text/plain": [
              "<matplotlib.image.AxesImage at 0x7e31d06c1ba0>"
            ]
          },
          "metadata": {},
          "execution_count": 101
        },
        {
          "output_type": "display_data",
          "data": {
            "text/plain": [
              "<Figure size 640x480 with 1 Axes>"
            ],
            "image/png": "[encoded data removed]"
          },
          "metadata": {}
        }
      ]
    },
    {
      "cell_type": "code",
      "source": [
        "from sklearn.cluster import KMeans\n",
        "labels=preprocessingAnnot(yTrain)\n",
        "data=np.array([i for x in labels for i in x])\n",
        "data=data[:,3:5]-data[:,1:3]\n",
        "X = data\n",
        "kmeans = KMeans(n_clusters=2, random_state=0, n_init=\"auto\").fit(X)"
      ],
      "metadata": {
        "id": "ou-qwUPk33Us"
      },
      "execution_count": null,
      "outputs": []
    },
    {
      "cell_type": "code",
      "source": [
        "y_label_matrix=preprocessingAnnot(yTest)\n"
      ],
      "metadata": {
        "id": "cnCyFR7MfV1M"
      },
      "execution_count": null,
      "outputs": []
    },
    {
      "cell_type": "code",
      "source": [
        "label_matrix=format_label(labels,kmeans)"
      ],
      "metadata": {
        "id": "Nu-H7vBi5LNN"
      },
      "execution_count": null,
      "outputs": []
    },
    {
      "cell_type": "code",
      "source": [
        "y_label_matrix=format_label(y_label_matrix,kmeans)"
      ],
      "metadata": {
        "id": "R-W3dnjnfYNX"
      },
      "execution_count": null,
      "outputs": []
    },
    {
      "cell_type": "code",
      "source": [
        "y_label_matrix.shape"
      ],
      "metadata": {
        "colab": {
          "base_uri": "https://localhost:8080/"
        },
        "id": "SaPXuKcsfb7x",
        "outputId": "0f947ced-346e-4632-f6e9-98a22bccd520"
      },
      "execution_count": null,
      "outputs": [
        {
          "output_type": "execute_result",
          "data": {
            "text/plain": [
              "(60, 7, 7, 13)"
            ]
          },
          "metadata": {},
          "execution_count": 104
        }
      ]
    },
    {
      "cell_type": "code",
      "source": [
        "label_matrix.shape"
      ],
      "metadata": {
        "colab": {
          "base_uri": "https://localhost:8080/"
        },
        "id": "6IFSiQ9ECQ4e",
        "outputId": "b24828ab-2b94-4745-ef53-af3d17b46755"
      },
      "execution_count": null,
      "outputs": [
        {
          "output_type": "execute_result",
          "data": {
            "text/plain": [
              "(240, 7, 7, 13)"
            ]
          },
          "metadata": {},
          "execution_count": 41
        }
      ]
    },
    {
      "cell_type": "markdown",
      "source": [
        "**yolo v1**"
      ],
      "metadata": {
        "id": "Z4jZEPoiHQIg"
      }
    },
    {
      "cell_type": "code",
      "source": [
        "grid_size=7\n",
        "num_bboxes=2\n",
        "num_classes=3\n",
        "output_size = grid_size * grid_size * (num_bboxes * 5 + num_classes)"
      ],
      "metadata": {
        "id": "JmwpDqO_J9pR"
      },
      "execution_count": null,
      "outputs": []
    },
    {
      "cell_type": "code",
      "source": [
        "model=keras.Sequential([\n",
        "    layers.Input(xTrain[0].shape),\n",
        "    layers.Conv2D(64, (7, 7), strides=2, padding='same', activation='relu'),\n",
        "    layers.MaxPooling2D((2, 2), strides=2),\n",
        "\n",
        "    layers.Conv2D(192, (3, 3), padding='same', activation='relu'),\n",
        "    layers.MaxPooling2D((2, 2), strides=2),\n",
        "\n",
        "\n",
        "    layers.Conv2D(128, (1, 1), padding='same', activation='relu'),\n",
        "    layers.Conv2D(256, (3, 3), padding='same', activation='relu'),\n",
        "    layers.Conv2D(256, (1, 1), padding='same', activation='relu'),\n",
        "    layers.Conv2D(512, (3, 3), padding='same', activation='relu'),\n",
        "    layers.MaxPooling2D((2, 2), strides=2),\n",
        "\n",
        "\n",
        "    layers.Conv2D(256, (1, 1), padding='same', activation='relu'),\n",
        "    layers.Conv2D(512, (3, 3), padding='same', activation='relu'),\n",
        "    layers.Conv2D(256, (1, 1), padding='same', activation='relu'),\n",
        "    layers.Conv2D(512, (3, 3), padding='same', activation='relu'),\n",
        "    layers.Conv2D(256, (1, 1), padding='same', activation='relu'),\n",
        "    layers.Conv2D(512, (3, 3), padding='same', activation='relu'),\n",
        "    layers.Conv2D(256, (1, 1), padding='same', activation='relu'),\n",
        "    layers.Conv2D(512, (3, 3), padding='same', activation='relu'),\n",
        "\n",
        "    layers.Conv2D(512, (1, 1), padding='same', activation='relu'),\n",
        "    layers.Conv2D(1024, (3, 3), padding='same', activation='relu'),\n",
        "    layers.MaxPooling2D((2, 2), strides=2),\n",
        "    # Layers 9-10\n",
        "    layers.Conv2D(512, (1, 1), padding='same', activation='relu'),\n",
        "    layers.Conv2D(1024, (3, 3), padding='same', activation='relu'),\n",
        "    # Layers 11-12\n",
        "    layers.Conv2D(1024, (3, 3), padding='same', activation='relu'),\n",
        "    layers.Conv2D(1024, (3, 3), strides=2, padding='same', activation='relu'),\n",
        "    # Layer 13-14\n",
        "    layers.Conv2D(1024, (3, 3), padding='same', activation='relu'),\n",
        "    layers.Conv2D(1024, (3, 3), padding='same', activation='relu'),\n",
        "    # Fully connected layers\n",
        "    layers.Flatten(),\n",
        "    layers.Dense(4096, activation='relu'),\n",
        "    layers.Dropout(0.5),\n",
        "    layers.Dense(output_size, activation='linear')\n",
        "    ])"
      ],
      "metadata": {
        "id": "GH3-vIBcHSoM"
      },
      "execution_count": null,
      "outputs": []
    },
    {
      "cell_type": "code",
      "source": [
        "def yolo_v1_loss(y_true, y_pred, grid_size=7, num_bboxes=2, num_classes=3, lambda_coord=5, lambda_noobj=0.2):\n",
        "    S = grid_size\n",
        "    B = num_bboxes\n",
        "    C = num_classes\n",
        "    # Reshape the predictions and true labels\n",
        "    y_true = tf.reshape(y_true, (-1, S, S, C + B * 5))\n",
        "    y_pred = tf.reshape(y_pred, (-1, S, S, C + B * 5))\n",
        "\n",
        "    # Split the predictions and true labels into components\n",
        "    true_classes = y_true[..., :C]\n",
        "    #true_bboxes = y_true[..., C:C+B*4]\n",
        "    #true_confidences = y_true[..., C+B*4:]\n",
        "    true_bboxes_confidences = y_true[..., C:]\n",
        "\n",
        "\n",
        "\n",
        "\n",
        "    pred_classes = y_pred[..., :C]\n",
        "    #pred_bboxes = y_pred[..., C:C+B*4]\n",
        "    #pred_confidences = y_pred[..., C+B*4:]\n",
        "\n",
        "    pred_bboxes_confidences = y_pred[..., C:]\n",
        "\n",
        "    true_bboxes_confidences= tf.reshape(true_bboxes_confidences, (-1, S, S, B, 5))\n",
        "    true_bboxes=true_bboxes_confidences[...,:4]\n",
        "    true_confidences = true_bboxes_confidences[...,4]\n",
        "\n",
        "\n",
        "    pred_bboxes_confidences= tf.reshape(pred_bboxes_confidences, (-1, S, S, B, 5))\n",
        "    pred_bboxes=pred_bboxes_confidences[...,:4]\n",
        "    pred_confidences = pred_bboxes_confidences[...,4]\n",
        "\n",
        "    # Reshape bounding boxes to (batch_size, S, S, B, 4)\n",
        "    #true_bboxes = tf.reshape(true_bboxes, (-1, S, S, B, 4))\n",
        "    #pred_bboxes = tf.reshape(pred_bboxes, (-1, S, S, B, 4))\n",
        "    # Extract the coordinates\n",
        "    true_xy = true_bboxes[..., :2]\n",
        "    true_wh = true_bboxes[..., 2:4]\n",
        "    pred_xy = pred_bboxes[..., :2]\n",
        "    pred_wh = pred_bboxes[..., 2:4]\n",
        "\n",
        "    # Create mask for cells containing objects\n",
        "    object_mask = tf.reduce_max(true_confidences, axis=-1, keepdims=True)\n",
        "\n",
        "\n",
        "\n",
        "\n",
        "    #print(\"object_mask= \",object_mask.shape)\n",
        "    #print(\"true_xy \",true_xy.shape)\n",
        "    #print(\"tf.square(true_xy - pred_xy)= \",tf.square(true_xy - pred_xy).shape)\n",
        "    #print(\"tf.reduce_sum(tf.square(true_xy - pred_xy) + tf.square(true_wh - pred_wh), axis=-1)= \",tf.reduce_sum(tf.square(true_xy - pred_xy) + tf.square(true_wh - pred_wh), axis=-1).shape)\n",
        "    # Localization loss\n",
        "    coord_loss = tf.reduce_sum(lambda_coord * object_mask * tf.reduce_sum(tf.square(true_xy - pred_xy) + tf.square(true_wh - pred_wh), axis=-1), axis=-1, keepdims=True)\n",
        "\n",
        "\n",
        "\n",
        "    #print(\"object_mask= \",object_mask.shape)\n",
        "    #print(\"tf.square(true_confidences - pred_confidences) \",tf.square(true_confidences - pred_confidences).shape)\n",
        "    # Confidence loss\n",
        "    confidence_loss = tf.reduce_sum(object_mask * tf.square(true_confidences - pred_confidences) +\n",
        "\n",
        "              lambda_noobj * (1 - object_mask) * tf.square(true_confidences - pred_confidences), axis=-1, keepdims=True)\n",
        "\n",
        "    # Classification loss\n",
        "    class_loss = object_mask * tf.reduce_sum(tf.square(true_classes - pred_classes), axis=-1, keepdims=True)\n",
        "    #print(\"coord_loss \",coord_loss.shape)\n",
        "    #print(\"confidence_loss \",confidence_loss.shape)\n",
        "    #print(\"class_loss \",class_loss.shape)\n",
        "    # Total loss\n",
        "    total_loss = coord_loss + confidence_loss + class_loss\n",
        "    return tf.reduce_mean(total_loss)\n"
      ],
      "metadata": {
        "id": "eWp_a6eOOiXI"
      },
      "execution_count": null,
      "outputs": []
    },
    {
      "cell_type": "code",
      "source": [
        "# Custom loss needs to be passed as a function with appropriate arguments\n",
        "def custom_yolo_loss(y_true, y_pred):\n",
        "    return yolo_v1_loss(y_true, y_pred)\n",
        "\n",
        "# Compile the model with the custom loss function\n",
        "model.compile(optimizer='adam', loss=custom_yolo_loss)\n"
      ],
      "metadata": {
        "id": "Yko4qNa1ya08"
      },
      "execution_count": null,
      "outputs": []
    },
    {
      "cell_type": "code",
      "source": [
        "his=model.fit(xTrain,label_matrix, epochs=100, batch_size=64, validation_split=0.1)"
      ],
      "metadata": {
        "colab": {
          "base_uri": "https://localhost:8080/",
          "height": 1000
        },
        "id": "uwMmQ5OUzeJ5",
        "outputId": "60551075-a96c-408d-af6d-e0be701010b4"
      },
      "execution_count": null,
      "outputs": [
        {
          "output_type": "stream",
          "name": "stdout",
          "text": [
            "Epoch 1/100\n",
            "4/4 [==============================] - 4s 847ms/step - loss: 0.5835 - val_loss: 0.5997\n",
            "Epoch 2/100\n",
            "4/4 [==============================] - 3s 828ms/step - loss: 0.5609 - val_loss: 0.6180\n",
            "Epoch 3/100\n",
            "4/4 [==============================] - 3s 835ms/step - loss: 0.5573 - val_loss: 0.6250\n",
            "Epoch 4/100\n",
            "4/4 [==============================] - 3s 844ms/step - loss: 0.5762 - val_loss: 0.6106\n",
            "Epoch 5/100\n",
            "4/4 [==============================] - 4s 852ms/step - loss: 0.5692 - val_loss: 0.5983\n",
            "Epoch 6/100\n",
            "4/4 [==============================] - 3s 844ms/step - loss: 0.5687 - val_loss: 0.6037\n",
            "Epoch 7/100\n",
            "4/4 [==============================] - 3s 847ms/step - loss: 0.5642 - val_loss: 0.6164\n",
            "Epoch 8/100\n",
            "4/4 [==============================] - 4s 855ms/step - loss: 0.5751 - val_loss: 0.5850\n",
            "Epoch 9/100\n",
            "4/4 [==============================] - 4s 867ms/step - loss: 0.5361 - val_loss: 0.5587\n",
            "Epoch 10/100\n",
            "4/4 [==============================] - 4s 863ms/step - loss: 0.5255 - val_loss: 0.5468\n",
            "Epoch 11/100\n",
            "4/4 [==============================] - 4s 873ms/step - loss: 0.5324 - val_loss: 0.5501\n",
            "Epoch 12/100\n",
            "4/4 [==============================] - 4s 882ms/step - loss: 0.5153 - val_loss: 0.5548\n",
            "Epoch 13/100\n",
            "4/4 [==============================] - 4s 887ms/step - loss: 0.4968 - val_loss: 0.5699\n",
            "Epoch 14/100\n",
            "4/4 [==============================] - 4s 892ms/step - loss: 0.4867 - val_loss: 0.5399\n",
            "Epoch 15/100\n",
            "4/4 [==============================] - 4s 900ms/step - loss: 0.4751 - val_loss: 0.5607\n",
            "Epoch 16/100\n",
            "4/4 [==============================] - 4s 903ms/step - loss: 0.4819 - val_loss: 0.5496\n",
            "Epoch 17/100\n",
            "4/4 [==============================] - 4s 910ms/step - loss: 0.4461 - val_loss: 0.5504\n",
            "Epoch 18/100\n",
            "4/4 [==============================] - 4s 963ms/step - loss: 0.4273 - val_loss: 0.5501\n",
            "Epoch 19/100\n",
            "4/4 [==============================] - 4s 912ms/step - loss: 0.4306 - val_loss: 0.5474\n",
            "Epoch 20/100\n",
            "4/4 [==============================] - 4s 900ms/step - loss: 0.4083 - val_loss: 0.5490\n",
            "Epoch 21/100\n",
            "4/4 [==============================] - 4s 897ms/step - loss: 0.3947 - val_loss: 0.5629\n",
            "Epoch 22/100\n",
            "4/4 [==============================] - 4s 899ms/step - loss: 0.3907 - val_loss: 0.5976\n",
            "Epoch 23/100\n",
            "4/4 [==============================] - 4s 937ms/step - loss: 0.3737 - val_loss: 0.5545\n",
            "Epoch 24/100\n",
            "4/4 [==============================] - 4s 882ms/step - loss: 0.3697 - val_loss: 0.5838\n",
            "Epoch 25/100\n",
            "4/4 [==============================] - 4s 881ms/step - loss: 0.3493 - val_loss: 0.5611\n",
            "Epoch 26/100\n",
            "4/4 [==============================] - 4s 884ms/step - loss: 0.3168 - val_loss: 0.5875\n",
            "Epoch 27/100\n",
            "4/4 [==============================] - 4s 875ms/step - loss: 0.3069 - val_loss: 0.5786\n",
            "Epoch 28/100\n",
            "4/4 [==============================] - 4s 875ms/step - loss: 0.2830 - val_loss: 0.5664\n",
            "Epoch 29/100\n",
            "4/4 [==============================] - 4s 878ms/step - loss: 0.2696 - val_loss: 0.6036\n",
            "Epoch 30/100\n",
            "4/4 [==============================] - 4s 877ms/step - loss: 0.2792 - val_loss: 0.6124\n",
            "Epoch 31/100\n",
            "4/4 [==============================] - 4s 873ms/step - loss: 0.2855 - val_loss: 0.6051\n",
            "Epoch 32/100\n",
            "4/4 [==============================] - 4s 871ms/step - loss: 0.2770 - val_loss: 0.5748\n",
            "Epoch 33/100\n",
            "4/4 [==============================] - 4s 886ms/step - loss: 0.2579 - val_loss: 0.6041\n",
            "Epoch 34/100\n",
            "4/4 [==============================] - 4s 880ms/step - loss: 0.2401 - val_loss: 0.5973\n",
            "Epoch 35/100\n",
            "4/4 [==============================] - 4s 880ms/step - loss: 0.2364 - val_loss: 0.6123\n",
            "Epoch 36/100\n",
            "4/4 [==============================] - 4s 892ms/step - loss: 0.2087 - val_loss: 0.6543\n",
            "Epoch 37/100\n",
            "4/4 [==============================] - 4s 887ms/step - loss: 0.2168 - val_loss: 0.5822\n",
            "Epoch 38/100\n",
            "4/4 [==============================] - 4s 884ms/step - loss: 0.1964 - val_loss: 0.6087\n",
            "Epoch 39/100\n",
            "4/4 [==============================] - 4s 889ms/step - loss: 0.2006 - val_loss: 0.5880\n",
            "Epoch 40/100\n",
            "4/4 [==============================] - 4s 897ms/step - loss: 0.1909 - val_loss: 0.6202\n",
            "Epoch 41/100\n",
            "4/4 [==============================] - 4s 887ms/step - loss: 0.1774 - val_loss: 0.6193\n",
            "Epoch 42/100\n",
            "4/4 [==============================] - 4s 890ms/step - loss: 0.1655 - val_loss: 0.6099\n",
            "Epoch 43/100\n",
            "4/4 [==============================] - 4s 901ms/step - loss: 0.1596 - val_loss: 0.6322\n",
            "Epoch 44/100\n",
            "4/4 [==============================] - 4s 886ms/step - loss: 0.1584 - val_loss: 0.6697\n",
            "Epoch 45/100\n",
            "4/4 [==============================] - 4s 887ms/step - loss: 0.1739 - val_loss: 0.6437\n",
            "Epoch 46/100\n",
            "4/4 [==============================] - 4s 887ms/step - loss: 0.1663 - val_loss: 0.6085\n",
            "Epoch 47/100\n",
            "4/4 [==============================] - 4s 894ms/step - loss: 0.1573 - val_loss: 0.6352\n",
            "Epoch 48/100\n",
            "4/4 [==============================] - 4s 885ms/step - loss: 0.1510 - val_loss: 0.6738\n",
            "Epoch 49/100\n",
            "4/4 [==============================] - 4s 885ms/step - loss: 0.1444 - val_loss: 0.6243\n",
            "Epoch 50/100\n",
            "4/4 [==============================] - 4s 899ms/step - loss: 0.1365 - val_loss: 0.6258\n",
            "Epoch 51/100\n",
            "4/4 [==============================] - 4s 887ms/step - loss: 0.1431 - val_loss: 0.6505\n",
            "Epoch 52/100\n",
            "4/4 [==============================] - 4s 881ms/step - loss: 0.1214 - val_loss: 0.6735\n",
            "Epoch 53/100\n",
            "4/4 [==============================] - 4s 883ms/step - loss: 0.1318 - val_loss: 0.6269\n",
            "Epoch 54/100\n",
            "2/4 [==============>...............] - ETA: 2s - loss: 0.1314"
          ]
        },
        {
          "output_type": "error",
          "ename": "KeyboardInterrupt",
          "evalue": "",
          "traceback": [
            "\u001b[0;31m---------------------------------------------------------------------------\u001b[0m",
            "\u001b[0;31mKeyboardInterrupt\u001b[0m                         Traceback (most recent call last)",
            "\u001b[0;32m<ipython-input-79-83a576d6523c>\u001b[0m in \u001b[0;36m<cell line: 1>\u001b[0;34m()\u001b[0m\n\u001b[0;32m----> 1\u001b[0;31m \u001b[0mhis\u001b[0m\u001b[0;34m=\u001b[0m\u001b[0mmodel\u001b[0m\u001b[0;34m.\u001b[0m\u001b[0mfit\u001b[0m\u001b[0;34m(\u001b[0m\u001b[0mxTrain\u001b[0m\u001b[0;34m,\u001b[0m\u001b[0mlabel_matrix\u001b[0m\u001b[0;34m,\u001b[0m \u001b[0mepochs\u001b[0m\u001b[0;34m=\u001b[0m\u001b[0;36m100\u001b[0m\u001b[0;34m,\u001b[0m \u001b[0mbatch_size\u001b[0m\u001b[0;34m=\u001b[0m\u001b[0;36m64\u001b[0m\u001b[0;34m,\u001b[0m \u001b[0mvalidation_split\u001b[0m\u001b[0;34m=\u001b[0m\u001b[0;36m0.1\u001b[0m\u001b[0;34m)\u001b[0m\u001b[0;34m\u001b[0m\u001b[0;34m\u001b[0m\u001b[0m\n\u001b[0m",
            "\u001b[0;32m/usr/local/lib/python3.10/dist-packages/keras/src/utils/traceback_utils.py\u001b[0m in \u001b[0;36merror_handler\u001b[0;34m(*args, **kwargs)\u001b[0m\n\u001b[1;32m     63\u001b[0m         \u001b[0mfiltered_tb\u001b[0m \u001b[0;34m=\u001b[0m \u001b[0;32mNone\u001b[0m\u001b[0;34m\u001b[0m\u001b[0;34m\u001b[0m\u001b[0m\n\u001b[1;32m     64\u001b[0m         \u001b[0;32mtry\u001b[0m\u001b[0;34m:\u001b[0m\u001b[0;34m\u001b[0m\u001b[0;34m\u001b[0m\u001b[0m\n\u001b[0;32m---> 65\u001b[0;31m             \u001b[0;32mreturn\u001b[0m \u001b[0mfn\u001b[0m\u001b[0;34m(\u001b[0m\u001b[0;34m*\u001b[0m\u001b[0margs\u001b[0m\u001b[0;34m,\u001b[0m \u001b[0;34m**\u001b[0m\u001b[0mkwargs\u001b[0m\u001b[0;34m)\u001b[0m\u001b[0;34m\u001b[0m\u001b[0;34m\u001b[0m\u001b[0m\n\u001b[0m\u001b[1;32m     66\u001b[0m         \u001b[0;32mexcept\u001b[0m \u001b[0mException\u001b[0m \u001b[0;32mas\u001b[0m \u001b[0me\u001b[0m\u001b[0;34m:\u001b[0m\u001b[0;34m\u001b[0m\u001b[0;34m\u001b[0m\u001b[0m\n\u001b[1;32m     67\u001b[0m             \u001b[0mfiltered_tb\u001b[0m \u001b[0;34m=\u001b[0m \u001b[0m_process_traceback_frames\u001b[0m\u001b[0;34m(\u001b[0m\u001b[0me\u001b[0m\u001b[0;34m.\u001b[0m\u001b[0m__traceback__\u001b[0m\u001b[0;34m)\u001b[0m\u001b[0;34m\u001b[0m\u001b[0;34m\u001b[0m\u001b[0m\n",
            "\u001b[0;32m/usr/local/lib/python3.10/dist-packages/keras/src/engine/training.py\u001b[0m in \u001b[0;36mfit\u001b[0;34m(self, x, y, batch_size, epochs, verbose, callbacks, validation_split, validation_data, shuffle, class_weight, sample_weight, initial_epoch, steps_per_epoch, validation_steps, validation_batch_size, validation_freq, max_queue_size, workers, use_multiprocessing)\u001b[0m\n\u001b[1;32m   1805\u001b[0m                         ):\n\u001b[1;32m   1806\u001b[0m                             \u001b[0mcallbacks\u001b[0m\u001b[0;34m.\u001b[0m\u001b[0mon_train_batch_begin\u001b[0m\u001b[0;34m(\u001b[0m\u001b[0mstep\u001b[0m\u001b[0;34m)\u001b[0m\u001b[0;34m\u001b[0m\u001b[0;34m\u001b[0m\u001b[0m\n\u001b[0;32m-> 1807\u001b[0;31m                             \u001b[0mtmp_logs\u001b[0m \u001b[0;34m=\u001b[0m \u001b[0mself\u001b[0m\u001b[0;34m.\u001b[0m\u001b[0mtrain_function\u001b[0m\u001b[0;34m(\u001b[0m\u001b[0miterator\u001b[0m\u001b[0;34m)\u001b[0m\u001b[0;34m\u001b[0m\u001b[0;34m\u001b[0m\u001b[0m\n\u001b[0m\u001b[1;32m   1808\u001b[0m                             \u001b[0;32mif\u001b[0m \u001b[0mdata_handler\u001b[0m\u001b[0;34m.\u001b[0m\u001b[0mshould_sync\u001b[0m\u001b[0;34m:\u001b[0m\u001b[0;34m\u001b[0m\u001b[0;34m\u001b[0m\u001b[0m\n\u001b[1;32m   1809\u001b[0m                                 \u001b[0mcontext\u001b[0m\u001b[0;34m.\u001b[0m\u001b[0masync_wait\u001b[0m\u001b[0;34m(\u001b[0m\u001b[0;34m)\u001b[0m\u001b[0;34m\u001b[0m\u001b[0;34m\u001b[0m\u001b[0m\n",
            "\u001b[0;32m/usr/local/lib/python3.10/dist-packages/tensorflow/python/util/traceback_utils.py\u001b[0m in \u001b[0;36merror_handler\u001b[0;34m(*args, **kwargs)\u001b[0m\n\u001b[1;32m    148\u001b[0m     \u001b[0mfiltered_tb\u001b[0m \u001b[0;34m=\u001b[0m \u001b[0;32mNone\u001b[0m\u001b[0;34m\u001b[0m\u001b[0;34m\u001b[0m\u001b[0m\n\u001b[1;32m    149\u001b[0m     \u001b[0;32mtry\u001b[0m\u001b[0;34m:\u001b[0m\u001b[0;34m\u001b[0m\u001b[0;34m\u001b[0m\u001b[0m\n\u001b[0;32m--> 150\u001b[0;31m       \u001b[0;32mreturn\u001b[0m \u001b[0mfn\u001b[0m\u001b[0;34m(\u001b[0m\u001b[0;34m*\u001b[0m\u001b[0margs\u001b[0m\u001b[0;34m,\u001b[0m \u001b[0;34m**\u001b[0m\u001b[0mkwargs\u001b[0m\u001b[0;34m)\u001b[0m\u001b[0;34m\u001b[0m\u001b[0;34m\u001b[0m\u001b[0m\n\u001b[0m\u001b[1;32m    151\u001b[0m     \u001b[0;32mexcept\u001b[0m \u001b[0mException\u001b[0m \u001b[0;32mas\u001b[0m \u001b[0me\u001b[0m\u001b[0;34m:\u001b[0m\u001b[0;34m\u001b[0m\u001b[0;34m\u001b[0m\u001b[0m\n\u001b[1;32m    152\u001b[0m       \u001b[0mfiltered_tb\u001b[0m \u001b[0;34m=\u001b[0m \u001b[0m_process_traceback_frames\u001b[0m\u001b[0;34m(\u001b[0m\u001b[0me\u001b[0m\u001b[0;34m.\u001b[0m\u001b[0m__traceback__\u001b[0m\u001b[0;34m)\u001b[0m\u001b[0;34m\u001b[0m\u001b[0;34m\u001b[0m\u001b[0m\n",
            "\u001b[0;32m/usr/local/lib/python3.10/dist-packages/tensorflow/python/eager/polymorphic_function/polymorphic_function.py\u001b[0m in \u001b[0;36m__call__\u001b[0;34m(self, *args, **kwds)\u001b[0m\n\u001b[1;32m    830\u001b[0m \u001b[0;34m\u001b[0m\u001b[0m\n\u001b[1;32m    831\u001b[0m       \u001b[0;32mwith\u001b[0m \u001b[0mOptionalXlaContext\u001b[0m\u001b[0;34m(\u001b[0m\u001b[0mself\u001b[0m\u001b[0;34m.\u001b[0m\u001b[0m_jit_compile\u001b[0m\u001b[0;34m)\u001b[0m\u001b[0;34m:\u001b[0m\u001b[0;34m\u001b[0m\u001b[0;34m\u001b[0m\u001b[0m\n\u001b[0;32m--> 832\u001b[0;31m         \u001b[0mresult\u001b[0m \u001b[0;34m=\u001b[0m \u001b[0mself\u001b[0m\u001b[0;34m.\u001b[0m\u001b[0m_call\u001b[0m\u001b[0;34m(\u001b[0m\u001b[0;34m*\u001b[0m\u001b[0margs\u001b[0m\u001b[0;34m,\u001b[0m \u001b[0;34m**\u001b[0m\u001b[0mkwds\u001b[0m\u001b[0;34m)\u001b[0m\u001b[0;34m\u001b[0m\u001b[0;34m\u001b[0m\u001b[0m\n\u001b[0m\u001b[1;32m    833\u001b[0m \u001b[0;34m\u001b[0m\u001b[0m\n\u001b[1;32m    834\u001b[0m       \u001b[0mnew_tracing_count\u001b[0m \u001b[0;34m=\u001b[0m \u001b[0mself\u001b[0m\u001b[0;34m.\u001b[0m\u001b[0mexperimental_get_tracing_count\u001b[0m\u001b[0;34m(\u001b[0m\u001b[0;34m)\u001b[0m\u001b[0;34m\u001b[0m\u001b[0;34m\u001b[0m\u001b[0m\n",
            "\u001b[0;32m/usr/local/lib/python3.10/dist-packages/tensorflow/python/eager/polymorphic_function/polymorphic_function.py\u001b[0m in \u001b[0;36m_call\u001b[0;34m(self, *args, **kwds)\u001b[0m\n\u001b[1;32m    866\u001b[0m       \u001b[0;31m# In this case we have created variables on the first call, so we run the\u001b[0m\u001b[0;34m\u001b[0m\u001b[0;34m\u001b[0m\u001b[0m\n\u001b[1;32m    867\u001b[0m       \u001b[0;31m# defunned version which is guaranteed to never create variables.\u001b[0m\u001b[0;34m\u001b[0m\u001b[0;34m\u001b[0m\u001b[0m\n\u001b[0;32m--> 868\u001b[0;31m       return tracing_compilation.call_function(\n\u001b[0m\u001b[1;32m    869\u001b[0m           \u001b[0margs\u001b[0m\u001b[0;34m,\u001b[0m \u001b[0mkwds\u001b[0m\u001b[0;34m,\u001b[0m \u001b[0mself\u001b[0m\u001b[0;34m.\u001b[0m\u001b[0m_no_variable_creation_config\u001b[0m\u001b[0;34m\u001b[0m\u001b[0;34m\u001b[0m\u001b[0m\n\u001b[1;32m    870\u001b[0m       )\n",
            "\u001b[0;32m/usr/local/lib/python3.10/dist-packages/tensorflow/python/eager/polymorphic_function/tracing_compilation.py\u001b[0m in \u001b[0;36mcall_function\u001b[0;34m(args, kwargs, tracing_options)\u001b[0m\n\u001b[1;32m    137\u001b[0m   \u001b[0mbound_args\u001b[0m \u001b[0;34m=\u001b[0m \u001b[0mfunction\u001b[0m\u001b[0;34m.\u001b[0m\u001b[0mfunction_type\u001b[0m\u001b[0;34m.\u001b[0m\u001b[0mbind\u001b[0m\u001b[0;34m(\u001b[0m\u001b[0;34m*\u001b[0m\u001b[0margs\u001b[0m\u001b[0;34m,\u001b[0m \u001b[0;34m**\u001b[0m\u001b[0mkwargs\u001b[0m\u001b[0;34m)\u001b[0m\u001b[0;34m\u001b[0m\u001b[0;34m\u001b[0m\u001b[0m\n\u001b[1;32m    138\u001b[0m   \u001b[0mflat_inputs\u001b[0m \u001b[0;34m=\u001b[0m \u001b[0mfunction\u001b[0m\u001b[0;34m.\u001b[0m\u001b[0mfunction_type\u001b[0m\u001b[0;34m.\u001b[0m\u001b[0munpack_inputs\u001b[0m\u001b[0;34m(\u001b[0m\u001b[0mbound_args\u001b[0m\u001b[0;34m)\u001b[0m\u001b[0;34m\u001b[0m\u001b[0;34m\u001b[0m\u001b[0m\n\u001b[0;32m--> 139\u001b[0;31m   return function._call_flat(  # pylint: disable=protected-access\n\u001b[0m\u001b[1;32m    140\u001b[0m       \u001b[0mflat_inputs\u001b[0m\u001b[0;34m,\u001b[0m \u001b[0mcaptured_inputs\u001b[0m\u001b[0;34m=\u001b[0m\u001b[0mfunction\u001b[0m\u001b[0;34m.\u001b[0m\u001b[0mcaptured_inputs\u001b[0m\u001b[0;34m\u001b[0m\u001b[0;34m\u001b[0m\u001b[0m\n\u001b[1;32m    141\u001b[0m   )\n",
            "\u001b[0;32m/usr/local/lib/python3.10/dist-packages/tensorflow/python/eager/polymorphic_function/concrete_function.py\u001b[0m in \u001b[0;36m_call_flat\u001b[0;34m(self, tensor_inputs, captured_inputs)\u001b[0m\n\u001b[1;32m   1321\u001b[0m         and executing_eagerly):\n\u001b[1;32m   1322\u001b[0m       \u001b[0;31m# No tape is watching; skip to running the function.\u001b[0m\u001b[0;34m\u001b[0m\u001b[0;34m\u001b[0m\u001b[0m\n\u001b[0;32m-> 1323\u001b[0;31m       \u001b[0;32mreturn\u001b[0m \u001b[0mself\u001b[0m\u001b[0;34m.\u001b[0m\u001b[0m_inference_function\u001b[0m\u001b[0;34m.\u001b[0m\u001b[0mcall_preflattened\u001b[0m\u001b[0;34m(\u001b[0m\u001b[0margs\u001b[0m\u001b[0;34m)\u001b[0m\u001b[0;34m\u001b[0m\u001b[0;34m\u001b[0m\u001b[0m\n\u001b[0m\u001b[1;32m   1324\u001b[0m     forward_backward = self._select_forward_and_backward_functions(\n\u001b[1;32m   1325\u001b[0m         \u001b[0margs\u001b[0m\u001b[0;34m,\u001b[0m\u001b[0;34m\u001b[0m\u001b[0;34m\u001b[0m\u001b[0m\n",
            "\u001b[0;32m/usr/local/lib/python3.10/dist-packages/tensorflow/python/eager/polymorphic_function/atomic_function.py\u001b[0m in \u001b[0;36mcall_preflattened\u001b[0;34m(self, args)\u001b[0m\n\u001b[1;32m    214\u001b[0m   \u001b[0;32mdef\u001b[0m \u001b[0mcall_preflattened\u001b[0m\u001b[0;34m(\u001b[0m\u001b[0mself\u001b[0m\u001b[0;34m,\u001b[0m \u001b[0margs\u001b[0m\u001b[0;34m:\u001b[0m \u001b[0mSequence\u001b[0m\u001b[0;34m[\u001b[0m\u001b[0mcore\u001b[0m\u001b[0;34m.\u001b[0m\u001b[0mTensor\u001b[0m\u001b[0;34m]\u001b[0m\u001b[0;34m)\u001b[0m \u001b[0;34m->\u001b[0m \u001b[0mAny\u001b[0m\u001b[0;34m:\u001b[0m\u001b[0;34m\u001b[0m\u001b[0;34m\u001b[0m\u001b[0m\n\u001b[1;32m    215\u001b[0m     \u001b[0;34m\"\"\"Calls with flattened tensor inputs and returns the structured output.\"\"\"\u001b[0m\u001b[0;34m\u001b[0m\u001b[0;34m\u001b[0m\u001b[0m\n\u001b[0;32m--> 216\u001b[0;31m     \u001b[0mflat_outputs\u001b[0m \u001b[0;34m=\u001b[0m \u001b[0mself\u001b[0m\u001b[0;34m.\u001b[0m\u001b[0mcall_flat\u001b[0m\u001b[0;34m(\u001b[0m\u001b[0;34m*\u001b[0m\u001b[0margs\u001b[0m\u001b[0;34m)\u001b[0m\u001b[0;34m\u001b[0m\u001b[0;34m\u001b[0m\u001b[0m\n\u001b[0m\u001b[1;32m    217\u001b[0m     \u001b[0;32mreturn\u001b[0m \u001b[0mself\u001b[0m\u001b[0;34m.\u001b[0m\u001b[0mfunction_type\u001b[0m\u001b[0;34m.\u001b[0m\u001b[0mpack_output\u001b[0m\u001b[0;34m(\u001b[0m\u001b[0mflat_outputs\u001b[0m\u001b[0;34m)\u001b[0m\u001b[0;34m\u001b[0m\u001b[0;34m\u001b[0m\u001b[0m\n\u001b[1;32m    218\u001b[0m \u001b[0;34m\u001b[0m\u001b[0m\n",
            "\u001b[0;32m/usr/local/lib/python3.10/dist-packages/tensorflow/python/eager/polymorphic_function/atomic_function.py\u001b[0m in \u001b[0;36mcall_flat\u001b[0;34m(self, *args)\u001b[0m\n\u001b[1;32m    249\u001b[0m         \u001b[0;32mwith\u001b[0m \u001b[0mrecord\u001b[0m\u001b[0;34m.\u001b[0m\u001b[0mstop_recording\u001b[0m\u001b[0;34m(\u001b[0m\u001b[0;34m)\u001b[0m\u001b[0;34m:\u001b[0m\u001b[0;34m\u001b[0m\u001b[0;34m\u001b[0m\u001b[0m\n\u001b[1;32m    250\u001b[0m           \u001b[0;32mif\u001b[0m \u001b[0mself\u001b[0m\u001b[0;34m.\u001b[0m\u001b[0m_bound_context\u001b[0m\u001b[0;34m.\u001b[0m\u001b[0mexecuting_eagerly\u001b[0m\u001b[0;34m(\u001b[0m\u001b[0;34m)\u001b[0m\u001b[0;34m:\u001b[0m\u001b[0;34m\u001b[0m\u001b[0;34m\u001b[0m\u001b[0m\n\u001b[0;32m--> 251\u001b[0;31m             outputs = self._bound_context.call_function(\n\u001b[0m\u001b[1;32m    252\u001b[0m                 \u001b[0mself\u001b[0m\u001b[0;34m.\u001b[0m\u001b[0mname\u001b[0m\u001b[0;34m,\u001b[0m\u001b[0;34m\u001b[0m\u001b[0;34m\u001b[0m\u001b[0m\n\u001b[1;32m    253\u001b[0m                 \u001b[0mlist\u001b[0m\u001b[0;34m(\u001b[0m\u001b[0margs\u001b[0m\u001b[0;34m)\u001b[0m\u001b[0;34m,\u001b[0m\u001b[0;34m\u001b[0m\u001b[0;34m\u001b[0m\u001b[0m\n",
            "\u001b[0;32m/usr/local/lib/python3.10/dist-packages/tensorflow/python/eager/context.py\u001b[0m in \u001b[0;36mcall_function\u001b[0;34m(self, name, tensor_inputs, num_outputs)\u001b[0m\n\u001b[1;32m   1484\u001b[0m     \u001b[0mcancellation_context\u001b[0m \u001b[0;34m=\u001b[0m \u001b[0mcancellation\u001b[0m\u001b[0;34m.\u001b[0m\u001b[0mcontext\u001b[0m\u001b[0;34m(\u001b[0m\u001b[0;34m)\u001b[0m\u001b[0;34m\u001b[0m\u001b[0;34m\u001b[0m\u001b[0m\n\u001b[1;32m   1485\u001b[0m     \u001b[0;32mif\u001b[0m \u001b[0mcancellation_context\u001b[0m \u001b[0;32mis\u001b[0m \u001b[0;32mNone\u001b[0m\u001b[0;34m:\u001b[0m\u001b[0;34m\u001b[0m\u001b[0;34m\u001b[0m\u001b[0m\n\u001b[0;32m-> 1486\u001b[0;31m       outputs = execute.execute(\n\u001b[0m\u001b[1;32m   1487\u001b[0m           \u001b[0mname\u001b[0m\u001b[0;34m.\u001b[0m\u001b[0mdecode\u001b[0m\u001b[0;34m(\u001b[0m\u001b[0;34m\"utf-8\"\u001b[0m\u001b[0;34m)\u001b[0m\u001b[0;34m,\u001b[0m\u001b[0;34m\u001b[0m\u001b[0;34m\u001b[0m\u001b[0m\n\u001b[1;32m   1488\u001b[0m           \u001b[0mnum_outputs\u001b[0m\u001b[0;34m=\u001b[0m\u001b[0mnum_outputs\u001b[0m\u001b[0;34m,\u001b[0m\u001b[0;34m\u001b[0m\u001b[0;34m\u001b[0m\u001b[0m\n",
            "\u001b[0;32m/usr/local/lib/python3.10/dist-packages/tensorflow/python/eager/execute.py\u001b[0m in \u001b[0;36mquick_execute\u001b[0;34m(op_name, num_outputs, inputs, attrs, ctx, name)\u001b[0m\n\u001b[1;32m     51\u001b[0m   \u001b[0;32mtry\u001b[0m\u001b[0;34m:\u001b[0m\u001b[0;34m\u001b[0m\u001b[0;34m\u001b[0m\u001b[0m\n\u001b[1;32m     52\u001b[0m     \u001b[0mctx\u001b[0m\u001b[0;34m.\u001b[0m\u001b[0mensure_initialized\u001b[0m\u001b[0;34m(\u001b[0m\u001b[0;34m)\u001b[0m\u001b[0;34m\u001b[0m\u001b[0;34m\u001b[0m\u001b[0m\n\u001b[0;32m---> 53\u001b[0;31m     tensors = pywrap_tfe.TFE_Py_Execute(ctx._handle, device_name, op_name,\n\u001b[0m\u001b[1;32m     54\u001b[0m                                         inputs, attrs, num_outputs)\n\u001b[1;32m     55\u001b[0m   \u001b[0;32mexcept\u001b[0m \u001b[0mcore\u001b[0m\u001b[0;34m.\u001b[0m\u001b[0m_NotOkStatusException\u001b[0m \u001b[0;32mas\u001b[0m \u001b[0me\u001b[0m\u001b[0;34m:\u001b[0m\u001b[0;34m\u001b[0m\u001b[0;34m\u001b[0m\u001b[0m\n",
            "\u001b[0;31mKeyboardInterrupt\u001b[0m: "
          ]
        }
      ]
    },
    {
      "cell_type": "code",
      "source": [
        "img=xTrain[1:2]\n",
        "img.shape"
      ],
      "metadata": {
        "colab": {
          "base_uri": "https://localhost:8080/"
        },
        "id": "ISlZ1G9SRXV5",
        "outputId": "26a1fbe8-05d2-41c1-96dd-3692679881c5"
      },
      "execution_count": null,
      "outputs": [
        {
          "output_type": "execute_result",
          "data": {
            "text/plain": [
              "(1, 448, 448, 3)"
            ]
          },
          "metadata": {},
          "execution_count": 80
        }
      ]
    },
    {
      "cell_type": "code",
      "source": [
        "result=model.predict(img)"
      ],
      "metadata": {
        "colab": {
          "base_uri": "https://localhost:8080/"
        },
        "id": "OzCQrtnGRKht",
        "outputId": "88644f3f-0a73-4b57-ec58-e862b0203aaf"
      },
      "execution_count": null,
      "outputs": [
        {
          "output_type": "stream",
          "name": "stdout",
          "text": [
            "1/1 [==============================] - 0s 24ms/step\n"
          ]
        }
      ]
    },
    {
      "cell_type": "code",
      "source": [
        "result=result.reshape((-1, 7, 7, 3 + 2 * 5))"
      ],
      "metadata": {
        "id": "qaRjK6H1RzTa"
      },
      "execution_count": null,
      "outputs": []
    },
    {
      "cell_type": "code",
      "source": [
        "label_matrix[1,4,3,-1]"
      ],
      "metadata": {
        "colab": {
          "base_uri": "https://localhost:8080/"
        },
        "id": "6fx_TYQrcaJ9",
        "outputId": "646f02d5-d6ae-4d82-ad11-4f6b2e90af4d"
      },
      "execution_count": null,
      "outputs": [
        {
          "output_type": "execute_result",
          "data": {
            "text/plain": [
              "1.0"
            ]
          },
          "metadata": {},
          "execution_count": 83
        }
      ]
    },
    {
      "cell_type": "code",
      "source": [
        "result[0,:,:,7]"
      ],
      "metadata": {
        "colab": {
          "base_uri": "https://localhost:8080/"
        },
        "id": "QAX4hz9HcLFC",
        "outputId": "94c4d57e-93b1-4f40-97ca-e5de0d6116f9"
      },
      "execution_count": null,
      "outputs": [
        {
          "output_type": "execute_result",
          "data": {
            "text/plain": [
              "array([[-0.03075463,  0.04973889, -0.04899548,  0.02346393, -0.00802268,\n",
              "        -0.02942455, -0.01371512],\n",
              "       [ 0.01622634, -0.02661571,  0.12352329, -0.00806383, -0.08234163,\n",
              "        -0.01724073, -0.04101165],\n",
              "       [ 0.02023191, -0.00583214,  0.14444137,  0.00940308,  0.13346228,\n",
              "        -0.01587848, -0.04274273],\n",
              "       [-0.05086558,  0.00311037,  0.06805436,  0.06645299,  0.31183276,\n",
              "        -0.02864012, -0.03132236],\n",
              "       [-0.00826142,  0.14822887, -0.06268962,  0.05268964,  0.22337092,\n",
              "        -0.00064275, -0.06248981],\n",
              "       [ 0.00957543,  0.00832836, -0.0991706 , -0.03757896, -0.01508095,\n",
              "        -0.07252394, -0.00326564],\n",
              "       [-0.04372436, -0.0147239 , -0.00163296,  0.0419111 , -0.0034558 ,\n",
              "        -0.03574415, -0.02766879]], dtype=float32)"
            ]
          },
          "metadata": {},
          "execution_count": 84
        }
      ]
    },
    {
      "cell_type": "code",
      "source": [
        "np.set_printoptions(suppress=True)\n"
      ],
      "metadata": {
        "id": "oFTY85cddwXn"
      },
      "execution_count": null,
      "outputs": []
    },
    {
      "cell_type": "code",
      "source": [
        "result[0,:,:,-1]"
      ],
      "metadata": {
        "colab": {
          "base_uri": "https://localhost:8080/"
        },
        "id": "IDwoAA8gder7",
        "outputId": "47e2b4d5-8c9d-49fb-9d67-cdcf9b710025"
      },
      "execution_count": null,
      "outputs": [
        {
          "output_type": "execute_result",
          "data": {
            "text/plain": [
              "array([[ 0.00114163, -0.02609242,  0.00912872, -0.01509761, -0.0019666 ,\n",
              "         0.01315267, -0.02292046],\n",
              "       [-0.00328371, -0.03431936,  0.03300652, -0.02316956,  0.0098641 ,\n",
              "         0.0310667 , -0.01663042],\n",
              "       [-0.0396033 , -0.01150936, -0.00674094,  0.07060646, -0.05709134,\n",
              "        -0.04133639, -0.0102655 ],\n",
              "       [ 0.02576172,  0.04560898,  0.16656552,  0.83265084, -0.13224092,\n",
              "         0.00984237,  0.02439748],\n",
              "       [ 0.02835756, -0.02591792,  0.26146793,  0.66253316, -0.09669646,\n",
              "        -0.01403403, -0.04583329],\n",
              "       [-0.03847427,  0.00297769, -0.03205549, -0.00048088, -0.03596113,\n",
              "        -0.01909255, -0.03688045],\n",
              "       [ 0.01951794,  0.00992551, -0.02093561, -0.04337039, -0.01753186,\n",
              "        -0.00334678,  0.01153071]], dtype=float32)"
            ]
          },
          "metadata": {},
          "execution_count": 85
        }
      ]
    },
    {
      "cell_type": "code",
      "source": [
        "result[0,4,3,-1]"
      ],
      "metadata": {
        "colab": {
          "base_uri": "https://localhost:8080/"
        },
        "id": "uCoxp6jnSCks",
        "outputId": "5f5acde6-3e84-4851-bdd9-411f7c8dc2ab"
      },
      "execution_count": null,
      "outputs": [
        {
          "output_type": "execute_result",
          "data": {
            "text/plain": [
              "0.44264987"
            ]
          },
          "metadata": {},
          "execution_count": 75
        }
      ]
    },
    {
      "cell_type": "code",
      "source": [
        "xTest.shape"
      ],
      "metadata": {
        "colab": {
          "base_uri": "https://localhost:8080/"
        },
        "id": "oZg3eHhygEr9",
        "outputId": "85d2d045-d483-4dd3-8096-daf32e23762c"
      },
      "execution_count": null,
      "outputs": [
        {
          "output_type": "execute_result",
          "data": {
            "text/plain": [
              "(60, 448, 448, 3)"
            ]
          },
          "metadata": {},
          "execution_count": 105
        }
      ]
    },
    {
      "cell_type": "code",
      "source": [
        "y_label_matrix.shape"
      ],
      "metadata": {
        "colab": {
          "base_uri": "https://localhost:8080/"
        },
        "id": "Pwf9r6B2fhtt",
        "outputId": "f9500934-e3ba-4e69-b3d7-fe2ac9b4b5d7"
      },
      "execution_count": null,
      "outputs": [
        {
          "output_type": "execute_result",
          "data": {
            "text/plain": [
              "(60, 7, 7, 13)"
            ]
          },
          "metadata": {},
          "execution_count": 106
        }
      ]
    },
    {
      "cell_type": "code",
      "source": [
        "img=xTest[0:1]\n",
        "img.shape"
      ],
      "metadata": {
        "colab": {
          "base_uri": "https://localhost:8080/"
        },
        "id": "LxuHz6UjgfOH",
        "outputId": "baedde16-72c3-4c0b-b23a-2f47dae494dd"
      },
      "execution_count": null,
      "outputs": [
        {
          "output_type": "execute_result",
          "data": {
            "text/plain": [
              "(1, 448, 448, 3)"
            ]
          },
          "metadata": {},
          "execution_count": 107
        }
      ]
    },
    {
      "cell_type": "code",
      "source": [
        "result=model.predict(img)"
      ],
      "metadata": {
        "colab": {
          "base_uri": "https://localhost:8080/"
        },
        "id": "sd2o_EdCgkaF",
        "outputId": "fe74ea6e-4844-4a60-a0cb-a579e1da18c3"
      },
      "execution_count": null,
      "outputs": [
        {
          "output_type": "stream",
          "name": "stdout",
          "text": [
            "1/1 [==============================] - 0s 31ms/step\n"
          ]
        }
      ]
    },
    {
      "cell_type": "code",
      "source": [
        "y_label_matrix[0,:,:,7]"
      ],
      "metadata": {
        "colab": {
          "base_uri": "https://localhost:8080/"
        },
        "id": "AwhY6WVugpGp",
        "outputId": "52555ddd-2c7d-4838-f2e5-d1a34f585f53"
      },
      "execution_count": null,
      "outputs": [
        {
          "output_type": "execute_result",
          "data": {
            "text/plain": [
              "array([[0., 0., 0., 0., 0., 0., 0.],\n",
              "       [0., 0., 0., 0., 0., 0., 0.],\n",
              "       [0., 0., 0., 0., 0., 0., 0.],\n",
              "       [0., 0., 0., 0., 0., 0., 0.],\n",
              "       [0., 0., 0., 0., 0., 0., 0.],\n",
              "       [0., 0., 0., 0., 0., 0., 0.],\n",
              "       [0., 0., 0., 0., 0., 0., 0.]])"
            ]
          },
          "metadata": {},
          "execution_count": 113
        }
      ]
    },
    {
      "cell_type": "code",
      "source": [
        "result=result.reshape((-1, 7, 7, 3 + 2 * 5))"
      ],
      "metadata": {
        "id": "ZQK333Iwg6E1"
      },
      "execution_count": null,
      "outputs": []
    },
    {
      "cell_type": "code",
      "source": [
        "result[0,:,:,7]"
      ],
      "metadata": {
        "colab": {
          "base_uri": "https://localhost:8080/"
        },
        "id": "hhk2354Wg9AN",
        "outputId": "aee0d56b-d66e-4be5-e35d-b57b81302839"
      },
      "execution_count": null,
      "outputs": [
        {
          "output_type": "execute_result",
          "data": {
            "text/plain": [
              "array([[-0.00225488,  0.05149531, -0.0011525 ,  0.02435442, -0.0302121 ,\n",
              "        -0.01886898, -0.02681588],\n",
              "       [ 0.02969922,  0.01279299, -0.11194897,  0.09905829,  0.02807072,\n",
              "         0.07158273, -0.03825439],\n",
              "       [ 0.03598055,  0.01920051,  0.01576844, -0.06735593,  0.09988397,\n",
              "        -0.11631323, -0.04353357],\n",
              "       [ 0.04915869,  0.01902058,  0.01269276,  0.06387189,  0.13433133,\n",
              "        -0.0488569 , -0.02175352],\n",
              "       [ 0.00522646, -0.14662963,  0.13698253, -0.02400285,  0.06320751,\n",
              "         0.06400158, -0.04653298],\n",
              "       [-0.06251127, -0.05932637,  0.05028813, -0.02636742,  0.01372141,\n",
              "         0.03019177, -0.04522865],\n",
              "       [ 0.02630719, -0.01307722, -0.02047982, -0.03345193,  0.0121806 ,\n",
              "        -0.03881569, -0.02836746]], dtype=float32)"
            ]
          },
          "metadata": {},
          "execution_count": 114
        }
      ]
    }
  ]
}